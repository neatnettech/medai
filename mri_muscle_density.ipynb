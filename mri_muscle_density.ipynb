{
  "nbformat": 4,
  "nbformat_minor": 0,
  "metadata": {
    "colab": {
      "provenance": [],
      "authorship_tag": "ABX9TyOYqBUWQj2ZqHfMI6T3KvGf"
    },
    "kernelspec": {
      "name": "python3",
      "display_name": "Python 3"
    },
    "language_info": {
      "name": "python"
    }
  },
  "cells": [
    {
      "cell_type": "code",
      "source": [
        "!pip install matplotlib tcia_utils monai rt_utils scipy"
      ],
      "metadata": {
        "colab": {
          "base_uri": "https://localhost:8080/"
        },
        "id": "d37myr5y0-KZ",
        "outputId": "ae9f0842-a205-414b-c16a-7ec2dba19bec"
      },
      "execution_count": 3,
      "outputs": [
        {
          "output_type": "stream",
          "name": "stdout",
          "text": [
            "Requirement already satisfied: matplotlib in /usr/local/lib/python3.10/dist-packages (3.7.1)\n",
            "Requirement already satisfied: tcia_utils in /usr/local/lib/python3.10/dist-packages (2.1.6)\n",
            "Requirement already satisfied: monai in /usr/local/lib/python3.10/dist-packages (1.3.0)\n",
            "Requirement already satisfied: rt_utils in /usr/local/lib/python3.10/dist-packages (1.2.7)\n",
            "Requirement already satisfied: scipy in /usr/local/lib/python3.10/dist-packages (1.11.4)\n",
            "Requirement already satisfied: contourpy>=1.0.1 in /usr/local/lib/python3.10/dist-packages (from matplotlib) (1.2.1)\n",
            "Requirement already satisfied: cycler>=0.10 in /usr/local/lib/python3.10/dist-packages (from matplotlib) (0.12.1)\n",
            "Requirement already satisfied: fonttools>=4.22.0 in /usr/local/lib/python3.10/dist-packages (from matplotlib) (4.51.0)\n",
            "Requirement already satisfied: kiwisolver>=1.0.1 in /usr/local/lib/python3.10/dist-packages (from matplotlib) (1.4.5)\n",
            "Requirement already satisfied: numpy>=1.20 in /usr/local/lib/python3.10/dist-packages (from matplotlib) (1.25.2)\n",
            "Requirement already satisfied: packaging>=20.0 in /usr/local/lib/python3.10/dist-packages (from matplotlib) (24.0)\n",
            "Requirement already satisfied: pillow>=6.2.0 in /usr/local/lib/python3.10/dist-packages (from matplotlib) (9.4.0)\n",
            "Requirement already satisfied: pyparsing>=2.3.1 in /usr/local/lib/python3.10/dist-packages (from matplotlib) (3.1.2)\n",
            "Requirement already satisfied: python-dateutil>=2.7 in /usr/local/lib/python3.10/dist-packages (from matplotlib) (2.8.2)\n",
            "Requirement already satisfied: bs4 in /usr/local/lib/python3.10/dist-packages (from tcia_utils) (0.0.2)\n",
            "Requirement already satisfied: ipywidgets in /usr/local/lib/python3.10/dist-packages (from tcia_utils) (7.7.1)\n",
            "Requirement already satisfied: pandas in /usr/local/lib/python3.10/dist-packages (from tcia_utils) (2.0.3)\n",
            "Requirement already satisfied: plotly in /usr/local/lib/python3.10/dist-packages (from tcia_utils) (5.15.0)\n",
            "Requirement already satisfied: pydicom in /usr/local/lib/python3.10/dist-packages (from tcia_utils) (2.4.4)\n",
            "Requirement already satisfied: pydicom-seg in /usr/local/lib/python3.10/dist-packages (from tcia_utils) (0.4.1)\n",
            "Requirement already satisfied: requests in /usr/local/lib/python3.10/dist-packages (from tcia_utils) (2.31.0)\n",
            "Requirement already satisfied: unidecode in /usr/local/lib/python3.10/dist-packages (from tcia_utils) (1.3.8)\n",
            "Requirement already satisfied: torch>=1.9 in /usr/local/lib/python3.10/dist-packages (from monai) (2.2.1+cu121)\n",
            "Requirement already satisfied: opencv-python in /usr/local/lib/python3.10/dist-packages (from rt_utils) (4.8.0.76)\n",
            "Requirement already satisfied: dataclasses in /usr/local/lib/python3.10/dist-packages (from rt_utils) (0.6)\n",
            "Requirement already satisfied: six>=1.5 in /usr/local/lib/python3.10/dist-packages (from python-dateutil>=2.7->matplotlib) (1.16.0)\n",
            "Requirement already satisfied: filelock in /usr/local/lib/python3.10/dist-packages (from torch>=1.9->monai) (3.14.0)\n",
            "Requirement already satisfied: typing-extensions>=4.8.0 in /usr/local/lib/python3.10/dist-packages (from torch>=1.9->monai) (4.11.0)\n",
            "Requirement already satisfied: sympy in /usr/local/lib/python3.10/dist-packages (from torch>=1.9->monai) (1.12)\n",
            "Requirement already satisfied: networkx in /usr/local/lib/python3.10/dist-packages (from torch>=1.9->monai) (3.3)\n",
            "Requirement already satisfied: jinja2 in /usr/local/lib/python3.10/dist-packages (from torch>=1.9->monai) (3.1.3)\n",
            "Requirement already satisfied: fsspec in /usr/local/lib/python3.10/dist-packages (from torch>=1.9->monai) (2023.6.0)\n",
            "Requirement already satisfied: nvidia-cuda-nvrtc-cu12==12.1.105 in /usr/local/lib/python3.10/dist-packages (from torch>=1.9->monai) (12.1.105)\n",
            "Requirement already satisfied: nvidia-cuda-runtime-cu12==12.1.105 in /usr/local/lib/python3.10/dist-packages (from torch>=1.9->monai) (12.1.105)\n",
            "Requirement already satisfied: nvidia-cuda-cupti-cu12==12.1.105 in /usr/local/lib/python3.10/dist-packages (from torch>=1.9->monai) (12.1.105)\n",
            "Requirement already satisfied: nvidia-cudnn-cu12==8.9.2.26 in /usr/local/lib/python3.10/dist-packages (from torch>=1.9->monai) (8.9.2.26)\n",
            "Requirement already satisfied: nvidia-cublas-cu12==12.1.3.1 in /usr/local/lib/python3.10/dist-packages (from torch>=1.9->monai) (12.1.3.1)\n",
            "Requirement already satisfied: nvidia-cufft-cu12==11.0.2.54 in /usr/local/lib/python3.10/dist-packages (from torch>=1.9->monai) (11.0.2.54)\n",
            "Requirement already satisfied: nvidia-curand-cu12==10.3.2.106 in /usr/local/lib/python3.10/dist-packages (from torch>=1.9->monai) (10.3.2.106)\n",
            "Requirement already satisfied: nvidia-cusolver-cu12==11.4.5.107 in /usr/local/lib/python3.10/dist-packages (from torch>=1.9->monai) (11.4.5.107)\n",
            "Requirement already satisfied: nvidia-cusparse-cu12==12.1.0.106 in /usr/local/lib/python3.10/dist-packages (from torch>=1.9->monai) (12.1.0.106)\n",
            "Requirement already satisfied: nvidia-nccl-cu12==2.19.3 in /usr/local/lib/python3.10/dist-packages (from torch>=1.9->monai) (2.19.3)\n",
            "Requirement already satisfied: nvidia-nvtx-cu12==12.1.105 in /usr/local/lib/python3.10/dist-packages (from torch>=1.9->monai) (12.1.105)\n",
            "Requirement already satisfied: triton==2.2.0 in /usr/local/lib/python3.10/dist-packages (from torch>=1.9->monai) (2.2.0)\n",
            "Requirement already satisfied: nvidia-nvjitlink-cu12 in /usr/local/lib/python3.10/dist-packages (from nvidia-cusolver-cu12==11.4.5.107->torch>=1.9->monai) (12.4.127)\n",
            "Requirement already satisfied: beautifulsoup4 in /usr/local/lib/python3.10/dist-packages (from bs4->tcia_utils) (4.12.3)\n",
            "Requirement already satisfied: ipykernel>=4.5.1 in /usr/local/lib/python3.10/dist-packages (from ipywidgets->tcia_utils) (5.5.6)\n",
            "Requirement already satisfied: ipython-genutils~=0.2.0 in /usr/local/lib/python3.10/dist-packages (from ipywidgets->tcia_utils) (0.2.0)\n",
            "Requirement already satisfied: traitlets>=4.3.1 in /usr/local/lib/python3.10/dist-packages (from ipywidgets->tcia_utils) (5.7.1)\n",
            "Requirement already satisfied: widgetsnbextension~=3.6.0 in /usr/local/lib/python3.10/dist-packages (from ipywidgets->tcia_utils) (3.6.6)\n",
            "Requirement already satisfied: ipython>=4.0.0 in /usr/local/lib/python3.10/dist-packages (from ipywidgets->tcia_utils) (7.34.0)\n",
            "Requirement already satisfied: jupyterlab-widgets>=1.0.0 in /usr/local/lib/python3.10/dist-packages (from ipywidgets->tcia_utils) (3.0.10)\n",
            "Requirement already satisfied: pytz>=2020.1 in /usr/local/lib/python3.10/dist-packages (from pandas->tcia_utils) (2023.4)\n",
            "Requirement already satisfied: tzdata>=2022.1 in /usr/local/lib/python3.10/dist-packages (from pandas->tcia_utils) (2024.1)\n",
            "Requirement already satisfied: tenacity>=6.2.0 in /usr/local/lib/python3.10/dist-packages (from plotly->tcia_utils) (8.2.3)\n",
            "Requirement already satisfied: SimpleITK>1.2.4 in /usr/local/lib/python3.10/dist-packages (from pydicom-seg->tcia_utils) (2.3.1)\n",
            "Requirement already satisfied: jsonschema<4.0.0,>=3.2.0 in /usr/local/lib/python3.10/dist-packages (from pydicom-seg->tcia_utils) (3.2.0)\n",
            "Requirement already satisfied: charset-normalizer<4,>=2 in /usr/local/lib/python3.10/dist-packages (from requests->tcia_utils) (3.3.2)\n",
            "Requirement already satisfied: idna<4,>=2.5 in /usr/local/lib/python3.10/dist-packages (from requests->tcia_utils) (3.7)\n",
            "Requirement already satisfied: urllib3<3,>=1.21.1 in /usr/local/lib/python3.10/dist-packages (from requests->tcia_utils) (2.0.7)\n",
            "Requirement already satisfied: certifi>=2017.4.17 in /usr/local/lib/python3.10/dist-packages (from requests->tcia_utils) (2024.2.2)\n",
            "Requirement already satisfied: jupyter-client in /usr/local/lib/python3.10/dist-packages (from ipykernel>=4.5.1->ipywidgets->tcia_utils) (6.1.12)\n",
            "Requirement already satisfied: tornado>=4.2 in /usr/local/lib/python3.10/dist-packages (from ipykernel>=4.5.1->ipywidgets->tcia_utils) (6.3.3)\n",
            "Requirement already satisfied: setuptools>=18.5 in /usr/local/lib/python3.10/dist-packages (from ipython>=4.0.0->ipywidgets->tcia_utils) (67.7.2)\n",
            "Requirement already satisfied: jedi>=0.16 in /usr/local/lib/python3.10/dist-packages (from ipython>=4.0.0->ipywidgets->tcia_utils) (0.19.1)\n",
            "Requirement already satisfied: decorator in /usr/local/lib/python3.10/dist-packages (from ipython>=4.0.0->ipywidgets->tcia_utils) (4.4.2)\n",
            "Requirement already satisfied: pickleshare in /usr/local/lib/python3.10/dist-packages (from ipython>=4.0.0->ipywidgets->tcia_utils) (0.7.5)\n",
            "Requirement already satisfied: prompt-toolkit!=3.0.0,!=3.0.1,<3.1.0,>=2.0.0 in /usr/local/lib/python3.10/dist-packages (from ipython>=4.0.0->ipywidgets->tcia_utils) (3.0.43)\n",
            "Requirement already satisfied: pygments in /usr/local/lib/python3.10/dist-packages (from ipython>=4.0.0->ipywidgets->tcia_utils) (2.16.1)\n",
            "Requirement already satisfied: backcall in /usr/local/lib/python3.10/dist-packages (from ipython>=4.0.0->ipywidgets->tcia_utils) (0.2.0)\n",
            "Requirement already satisfied: matplotlib-inline in /usr/local/lib/python3.10/dist-packages (from ipython>=4.0.0->ipywidgets->tcia_utils) (0.1.7)\n",
            "Requirement already satisfied: pexpect>4.3 in /usr/local/lib/python3.10/dist-packages (from ipython>=4.0.0->ipywidgets->tcia_utils) (4.9.0)\n",
            "Requirement already satisfied: attrs>=17.4.0 in /usr/local/lib/python3.10/dist-packages (from jsonschema<4.0.0,>=3.2.0->pydicom-seg->tcia_utils) (23.2.0)\n",
            "Requirement already satisfied: pyrsistent>=0.14.0 in /usr/local/lib/python3.10/dist-packages (from jsonschema<4.0.0,>=3.2.0->pydicom-seg->tcia_utils) (0.20.0)\n",
            "Requirement already satisfied: notebook>=4.4.1 in /usr/local/lib/python3.10/dist-packages (from widgetsnbextension~=3.6.0->ipywidgets->tcia_utils) (6.5.5)\n",
            "Requirement already satisfied: soupsieve>1.2 in /usr/local/lib/python3.10/dist-packages (from beautifulsoup4->bs4->tcia_utils) (2.5)\n",
            "Requirement already satisfied: MarkupSafe>=2.0 in /usr/local/lib/python3.10/dist-packages (from jinja2->torch>=1.9->monai) (2.1.5)\n",
            "Requirement already satisfied: mpmath>=0.19 in /usr/local/lib/python3.10/dist-packages (from sympy->torch>=1.9->monai) (1.3.0)\n",
            "Requirement already satisfied: parso<0.9.0,>=0.8.3 in /usr/local/lib/python3.10/dist-packages (from jedi>=0.16->ipython>=4.0.0->ipywidgets->tcia_utils) (0.8.4)\n",
            "Requirement already satisfied: pyzmq<25,>=17 in /usr/local/lib/python3.10/dist-packages (from notebook>=4.4.1->widgetsnbextension~=3.6.0->ipywidgets->tcia_utils) (24.0.1)\n",
            "Requirement already satisfied: argon2-cffi in /usr/local/lib/python3.10/dist-packages (from notebook>=4.4.1->widgetsnbextension~=3.6.0->ipywidgets->tcia_utils) (23.1.0)\n",
            "Requirement already satisfied: jupyter-core>=4.6.1 in /usr/local/lib/python3.10/dist-packages (from notebook>=4.4.1->widgetsnbextension~=3.6.0->ipywidgets->tcia_utils) (5.7.2)\n",
            "Requirement already satisfied: nbformat in /usr/local/lib/python3.10/dist-packages (from notebook>=4.4.1->widgetsnbextension~=3.6.0->ipywidgets->tcia_utils) (5.10.4)\n",
            "Requirement already satisfied: nbconvert>=5 in /usr/local/lib/python3.10/dist-packages (from notebook>=4.4.1->widgetsnbextension~=3.6.0->ipywidgets->tcia_utils) (6.5.4)\n",
            "Requirement already satisfied: nest-asyncio>=1.5 in /usr/local/lib/python3.10/dist-packages (from notebook>=4.4.1->widgetsnbextension~=3.6.0->ipywidgets->tcia_utils) (1.6.0)\n",
            "Requirement already satisfied: Send2Trash>=1.8.0 in /usr/local/lib/python3.10/dist-packages (from notebook>=4.4.1->widgetsnbextension~=3.6.0->ipywidgets->tcia_utils) (1.8.3)\n",
            "Requirement already satisfied: terminado>=0.8.3 in /usr/local/lib/python3.10/dist-packages (from notebook>=4.4.1->widgetsnbextension~=3.6.0->ipywidgets->tcia_utils) (0.18.1)\n",
            "Requirement already satisfied: prometheus-client in /usr/local/lib/python3.10/dist-packages (from notebook>=4.4.1->widgetsnbextension~=3.6.0->ipywidgets->tcia_utils) (0.20.0)\n",
            "Requirement already satisfied: nbclassic>=0.4.7 in /usr/local/lib/python3.10/dist-packages (from notebook>=4.4.1->widgetsnbextension~=3.6.0->ipywidgets->tcia_utils) (1.0.0)\n",
            "Requirement already satisfied: ptyprocess>=0.5 in /usr/local/lib/python3.10/dist-packages (from pexpect>4.3->ipython>=4.0.0->ipywidgets->tcia_utils) (0.7.0)\n",
            "Requirement already satisfied: wcwidth in /usr/local/lib/python3.10/dist-packages (from prompt-toolkit!=3.0.0,!=3.0.1,<3.1.0,>=2.0.0->ipython>=4.0.0->ipywidgets->tcia_utils) (0.2.13)\n",
            "Requirement already satisfied: platformdirs>=2.5 in /usr/local/lib/python3.10/dist-packages (from jupyter-core>=4.6.1->notebook>=4.4.1->widgetsnbextension~=3.6.0->ipywidgets->tcia_utils) (4.2.1)\n",
            "Requirement already satisfied: jupyter-server>=1.8 in /usr/local/lib/python3.10/dist-packages (from nbclassic>=0.4.7->notebook>=4.4.1->widgetsnbextension~=3.6.0->ipywidgets->tcia_utils) (1.24.0)\n",
            "Requirement already satisfied: notebook-shim>=0.2.3 in /usr/local/lib/python3.10/dist-packages (from nbclassic>=0.4.7->notebook>=4.4.1->widgetsnbextension~=3.6.0->ipywidgets->tcia_utils) (0.2.4)\n",
            "Requirement already satisfied: lxml in /usr/local/lib/python3.10/dist-packages (from nbconvert>=5->notebook>=4.4.1->widgetsnbextension~=3.6.0->ipywidgets->tcia_utils) (4.9.4)\n",
            "Requirement already satisfied: bleach in /usr/local/lib/python3.10/dist-packages (from nbconvert>=5->notebook>=4.4.1->widgetsnbextension~=3.6.0->ipywidgets->tcia_utils) (6.1.0)\n",
            "Requirement already satisfied: defusedxml in /usr/local/lib/python3.10/dist-packages (from nbconvert>=5->notebook>=4.4.1->widgetsnbextension~=3.6.0->ipywidgets->tcia_utils) (0.7.1)\n",
            "Requirement already satisfied: entrypoints>=0.2.2 in /usr/local/lib/python3.10/dist-packages (from nbconvert>=5->notebook>=4.4.1->widgetsnbextension~=3.6.0->ipywidgets->tcia_utils) (0.4)\n",
            "Requirement already satisfied: jupyterlab-pygments in /usr/local/lib/python3.10/dist-packages (from nbconvert>=5->notebook>=4.4.1->widgetsnbextension~=3.6.0->ipywidgets->tcia_utils) (0.3.0)\n",
            "Requirement already satisfied: mistune<2,>=0.8.1 in /usr/local/lib/python3.10/dist-packages (from nbconvert>=5->notebook>=4.4.1->widgetsnbextension~=3.6.0->ipywidgets->tcia_utils) (0.8.4)\n",
            "Requirement already satisfied: nbclient>=0.5.0 in /usr/local/lib/python3.10/dist-packages (from nbconvert>=5->notebook>=4.4.1->widgetsnbextension~=3.6.0->ipywidgets->tcia_utils) (0.10.0)\n",
            "Requirement already satisfied: pandocfilters>=1.4.1 in /usr/local/lib/python3.10/dist-packages (from nbconvert>=5->notebook>=4.4.1->widgetsnbextension~=3.6.0->ipywidgets->tcia_utils) (1.5.1)\n",
            "Requirement already satisfied: tinycss2 in /usr/local/lib/python3.10/dist-packages (from nbconvert>=5->notebook>=4.4.1->widgetsnbextension~=3.6.0->ipywidgets->tcia_utils) (1.3.0)\n",
            "Requirement already satisfied: fastjsonschema>=2.15 in /usr/local/lib/python3.10/dist-packages (from nbformat->notebook>=4.4.1->widgetsnbextension~=3.6.0->ipywidgets->tcia_utils) (2.19.1)\n",
            "Requirement already satisfied: argon2-cffi-bindings in /usr/local/lib/python3.10/dist-packages (from argon2-cffi->notebook>=4.4.1->widgetsnbextension~=3.6.0->ipywidgets->tcia_utils) (21.2.0)\n",
            "Requirement already satisfied: anyio<4,>=3.1.0 in /usr/local/lib/python3.10/dist-packages (from jupyter-server>=1.8->nbclassic>=0.4.7->notebook>=4.4.1->widgetsnbextension~=3.6.0->ipywidgets->tcia_utils) (3.7.1)\n",
            "Requirement already satisfied: websocket-client in /usr/local/lib/python3.10/dist-packages (from jupyter-server>=1.8->nbclassic>=0.4.7->notebook>=4.4.1->widgetsnbextension~=3.6.0->ipywidgets->tcia_utils) (1.8.0)\n",
            "Requirement already satisfied: cffi>=1.0.1 in /usr/local/lib/python3.10/dist-packages (from argon2-cffi-bindings->argon2-cffi->notebook>=4.4.1->widgetsnbextension~=3.6.0->ipywidgets->tcia_utils) (1.16.0)\n",
            "Requirement already satisfied: webencodings in /usr/local/lib/python3.10/dist-packages (from bleach->nbconvert>=5->notebook>=4.4.1->widgetsnbextension~=3.6.0->ipywidgets->tcia_utils) (0.5.1)\n",
            "Requirement already satisfied: sniffio>=1.1 in /usr/local/lib/python3.10/dist-packages (from anyio<4,>=3.1.0->jupyter-server>=1.8->nbclassic>=0.4.7->notebook>=4.4.1->widgetsnbextension~=3.6.0->ipywidgets->tcia_utils) (1.3.1)\n",
            "Requirement already satisfied: exceptiongroup in /usr/local/lib/python3.10/dist-packages (from anyio<4,>=3.1.0->jupyter-server>=1.8->nbclassic>=0.4.7->notebook>=4.4.1->widgetsnbextension~=3.6.0->ipywidgets->tcia_utils) (1.2.1)\n",
            "Requirement already satisfied: pycparser in /usr/local/lib/python3.10/dist-packages (from cffi>=1.0.1->argon2-cffi-bindings->argon2-cffi->notebook>=4.4.1->widgetsnbextension~=3.6.0->ipywidgets->tcia_utils) (2.22)\n"
          ]
        }
      ]
    },
    {
      "cell_type": "code",
      "execution_count": null,
      "metadata": {
        "id": "NCiM64TX0xIi"
      },
      "outputs": [],
      "source": [
        "import os\n",
        "import numpy as np\n",
        "import torch\n",
        "import matplotlib.pyplot as plt\n",
        "from tcia_utils import nbia\n",
        "from monai.bundle import ConfigParser, download\n",
        "from monai.transforms import LoadImage, LoadImaged, Orientation, Orientationd, EnsureChannelFirst, EnsureChannelFirstd, Compose\n",
        "from rt_utils import RTStructBuilder\n",
        "from scipy.ndimage import label, measurements\n",
        "import json"
      ]
    },
    {
      "cell_type": "code",
      "source": [
        "!mkdir data"
      ],
      "metadata": {
        "id": "FP1KwJARAOY0"
      },
      "execution_count": null,
      "outputs": []
    },
    {
      "cell_type": "code",
      "source": [
        "datadir = 'data'"
      ],
      "metadata": {
        "id": "QjTd77Zm2J5m"
      },
      "execution_count": null,
      "outputs": []
    },
    {
      "cell_type": "code",
      "source": [
        "cart_name = \"nbia-56561691129779503\"\n",
        "cart_data = nbia.getSharedCart(cart_name)\n",
        "df = nbia.downloadSeries(cart_data, format=\"df\", path = datadir)"
      ],
      "metadata": {
        "id": "V9itKq9N2LqU"
      },
      "execution_count": null,
      "outputs": []
    },
    {
      "cell_type": "code",
      "source": [
        "CT_folder = os.path.join(datadir, '1.3.6.1.4.1.14519.5.2.1.3320.3273.193828570195012288011029757668')"
      ],
      "metadata": {
        "id": "SzwcjTGU2tq-"
      },
      "execution_count": null,
      "outputs": []
    },
    {
      "cell_type": "code",
      "source": [
        "image_loader = LoadImage(image_only=True)\n",
        "CT = image_loader(CT_folder)"
      ],
      "metadata": {
        "id": "X5F5s7NF2ygx"
      },
      "execution_count": null,
      "outputs": []
    },
    {
      "cell_type": "code",
      "source": [
        "CT.meta"
      ],
      "metadata": {
        "id": "aWWYvY0Q20ax"
      },
      "execution_count": null,
      "outputs": []
    },
    {
      "cell_type": "code",
      "source": [
        "CT_coronal_slice = CT[:,256].cpu().numpy()"
      ],
      "metadata": {
        "id": "EWKUMisw245C"
      },
      "execution_count": null,
      "outputs": []
    },
    {
      "cell_type": "code",
      "source": [
        "plt.figure(figsize=(3,8))\n",
        "plt.pcolormesh(CT_coronal_slice.T, cmap='Greys_r')\n",
        "plt.colorbar(label='HU')\n",
        "plt.axis('off')\n",
        "plt.show()"
      ],
      "metadata": {
        "id": "0uln08E328u9"
      },
      "execution_count": null,
      "outputs": []
    },
    {
      "cell_type": "code",
      "source": [
        "CT.shape"
      ],
      "metadata": {
        "id": "xOJZmBig2_Yb"
      },
      "execution_count": null,
      "outputs": []
    },
    {
      "cell_type": "code",
      "source": [
        "channel_transform = EnsureChannelFirst()\n",
        "CT = channel_transform(CT)\n",
        "CT.shape"
      ],
      "metadata": {
        "id": "uzRkjrTw3DyX"
      },
      "execution_count": null,
      "outputs": []
    },
    {
      "cell_type": "code",
      "source": [
        "orientation_transform = Orientation(axcodes=('LPS'))\n",
        "CT = orientation_transform(CT)"
      ],
      "metadata": {
        "id": "QI3-fU9N3FpF"
      },
      "execution_count": null,
      "outputs": []
    },
    {
      "cell_type": "code",
      "source": [
        "CT_coronal_slice = CT[0,:,256].cpu().numpy()"
      ],
      "metadata": {
        "id": "-Cg1yh3P3J55"
      },
      "execution_count": null,
      "outputs": []
    },
    {
      "cell_type": "code",
      "source": [
        "plt.figure(figsize=(3,8))\n",
        "plt.pcolormesh(CT_coronal_slice.T, cmap='Greys_r')\n",
        "plt.colorbar(label='HU')\n",
        "plt.axis('off')\n",
        "plt.show()"
      ],
      "metadata": {
        "id": "AhK1pK4j3MHU"
      },
      "execution_count": null,
      "outputs": []
    },
    {
      "cell_type": "code",
      "source": [
        "preprocessing_pipeline = Compose([\n",
        "    LoadImage(image_only=True),\n",
        "    EnsureChannelFirst(),\n",
        "    Orientation(axcodes='LPS')\n",
        "])"
      ],
      "metadata": {
        "id": "b7k_N1F73O0j"
      },
      "execution_count": null,
      "outputs": []
    },
    {
      "cell_type": "code",
      "source": [
        "CT = preprocessing_pipeline(CT_folder)\n",
        "CT_coronal_slice = CT[0,:,256].cpu().numpy()"
      ],
      "metadata": {
        "id": "bpzSW4X_3RWL"
      },
      "execution_count": null,
      "outputs": []
    },
    {
      "cell_type": "code",
      "source": [
        "plt.figure(figsize=(3,8))\n",
        "plt.pcolormesh(CT_coronal_slice.T, cmap='Greys_r')\n",
        "plt.colorbar(label='HU')\n",
        "plt.axis('off')\n",
        "plt.show()"
      ],
      "metadata": {
        "id": "qSOnLILN3TjN"
      },
      "execution_count": null,
      "outputs": []
    },
    {
      "cell_type": "code",
      "source": [
        "data = {'image': CT_folder, 'some_other_key': 42}"
      ],
      "metadata": {
        "id": "SCc4RM6z3ZWK"
      },
      "execution_count": null,
      "outputs": []
    },
    {
      "cell_type": "code",
      "source": [
        "preprocessing_pipeline = Compose([\n",
        "    LoadImaged(keys='image', image_only=True),\n",
        "    EnsureChannelFirstd(keys='image'),\n",
        "    Orientationd(keys='image',axcodes='LPS')\n",
        "])"
      ],
      "metadata": {
        "id": "6itBzzu93gUE"
      },
      "execution_count": null,
      "outputs": []
    },
    {
      "cell_type": "code",
      "source": [
        "data = preprocessing_pipeline(data)"
      ],
      "metadata": {
        "id": "b8_SzVtg3ies"
      },
      "execution_count": null,
      "outputs": []
    },
    {
      "cell_type": "code",
      "source": [
        "data"
      ],
      "metadata": {
        "colab": {
          "base_uri": "https://localhost:8080/"
        },
        "id": "WnnRyxDx3k9X",
        "outputId": "808d1bf2-92c1-4ea4-a808-f40c730e55d1"
      },
      "execution_count": 23,
      "outputs": [
        {
          "data": {
            "text/plain": [
              "{'image': metatensor([[[[-1024., -1024., -1024.,  ..., -1024., -1024., -1024.],\n",
              "           [-1024., -1024., -1024.,  ..., -1024., -1024., -1024.],\n",
              "           [-1024., -1024., -1024.,  ..., -1024., -1024., -1024.],\n",
              "           ...,\n",
              "           [-1024., -1024., -1024.,  ..., -1024., -1024., -1024.],\n",
              "           [-1024., -1024., -1024.,  ..., -1024., -1024., -1024.],\n",
              "           [-1024., -1024., -1024.,  ..., -1024., -1024., -1024.]],\n",
              " \n",
              "          [[-1024., -1024., -1024.,  ..., -1024., -1024., -1024.],\n",
              "           [-1024., -1024., -1024.,  ..., -1024., -1024., -1024.],\n",
              "           [-1024., -1024., -1024.,  ..., -1024., -1024., -1024.],\n",
              "           ...,\n",
              "           [-1024., -1024., -1024.,  ..., -1024., -1024., -1024.],\n",
              "           [-1024., -1024., -1024.,  ..., -1024., -1024., -1024.],\n",
              "           [-1024., -1024., -1024.,  ..., -1024., -1024., -1024.]],\n",
              " \n",
              "          [[-1024., -1024., -1024.,  ..., -1024., -1024., -1024.],\n",
              "           [-1024., -1024., -1024.,  ..., -1024., -1024., -1024.],\n",
              "           [-1024., -1024., -1024.,  ..., -1024., -1024., -1024.],\n",
              "           ...,\n",
              "           [-1024., -1024., -1024.,  ..., -1024., -1024., -1024.],\n",
              "           [-1024., -1024., -1024.,  ..., -1024., -1024., -1024.],\n",
              "           [-1024., -1024., -1024.,  ..., -1024., -1024., -1024.]],\n",
              " \n",
              "          ...,\n",
              " \n",
              "          [[-1024., -1024., -1024.,  ..., -1024., -1024., -1024.],\n",
              "           [-1024., -1024., -1024.,  ..., -1024., -1024., -1024.],\n",
              "           [-1024., -1024., -1024.,  ..., -1024., -1024., -1024.],\n",
              "           ...,\n",
              "           [-1024., -1024., -1024.,  ..., -1024., -1024., -1024.],\n",
              "           [-1024., -1024., -1024.,  ..., -1024., -1024., -1024.],\n",
              "           [-1024., -1024., -1024.,  ..., -1024., -1024., -1024.]],\n",
              " \n",
              "          [[-1024., -1024., -1024.,  ..., -1024., -1024., -1024.],\n",
              "           [-1024., -1024., -1024.,  ..., -1024., -1024., -1024.],\n",
              "           [-1024., -1024., -1024.,  ..., -1024., -1024., -1024.],\n",
              "           ...,\n",
              "           [-1024., -1024., -1024.,  ..., -1024., -1024., -1024.],\n",
              "           [-1024., -1024., -1024.,  ..., -1024., -1024., -1024.],\n",
              "           [-1024., -1024., -1024.,  ..., -1024., -1024., -1024.]],\n",
              " \n",
              "          [[-1024., -1024., -1024.,  ..., -1024., -1024., -1024.],\n",
              "           [-1024., -1024., -1024.,  ..., -1024., -1024., -1024.],\n",
              "           [-1024., -1024., -1024.,  ..., -1024., -1024., -1024.],\n",
              "           ...,\n",
              "           [-1024., -1024., -1024.,  ..., -1024., -1024., -1024.],\n",
              "           [-1024., -1024., -1024.,  ..., -1024., -1024., -1024.],\n",
              "           [-1024., -1024., -1024.,  ..., -1024., -1024., -1024.]]]]),\n",
              " 'some_other_key': 42}"
            ]
          },
          "execution_count": 23,
          "metadata": {},
          "output_type": "execute_result"
        }
      ]
    },
    {
      "cell_type": "code",
      "source": [
        "!wget --content-disposition https://api.ngc.nvidia.com/v2/models/nvidia/monaitoolkit/monai_wholebody_ct_segmentation/versions/0.1.9/zip -O monai_wholebody_ct_segmentation.zip"
      ],
      "metadata": {
        "colab": {
          "base_uri": "https://localhost:8080/"
        },
        "id": "KyBJeugr4CqB",
        "outputId": "bec2bf82-c86c-4eb5-dd8f-cac2051fde84"
      },
      "execution_count": 24,
      "outputs": [
        {
          "metadata": {
            "tags": null
          },
          "name": "stdout",
          "output_type": "stream",
          "text": [
            "--2024-05-06 08:25:19--  https://api.ngc.nvidia.com/v2/models/nvidia/monaitoolkit/monai_wholebody_ct_segmentation/versions/0.1.9/zip\n",
            "Resolving api.ngc.nvidia.com (api.ngc.nvidia.com)... 18.236.42.48, 44.228.149.205\n",
            "Connecting to api.ngc.nvidia.com (api.ngc.nvidia.com)|18.236.42.48|:443... connected.\n",
            "HTTP request sent, awaiting response... 302 Found\n",
            "Location: https://files.ngc.nvidia.com/org/nvidia/team/monaitoolkit/models/monai_wholebody_ct_segmentation/versions/0.1.9/files.zip?versionId%3D2B7Nna7MLNUNWFP1XuzyT_Mz42a7pX0T&Expires=1715070320&Signature=QYiVl3vMSpxu4PmEjIo0DpUoeIP-ohgz4rYfLfAvmnwgTTrSjePwQN-HrhzR-jzK3yJtYIJqi5b8PpP0rema8NVRAwP~MxQUmJ5WuODp-ZqGZYesd4Fpsvh19q-mzPIW8Kj3hUgDKgfcroHJL95LvTWq6AXA9CeE5Vz~dK4yCA8J-wHtO1bBxmKLtp-GtdWRNR-T3R3m2NIscpuDCDhZAc4zj3eBN2uvgOUBoToi9cDmVgAqjlLpvFrxtzlTW8JDZlMh7h3NF6fzgZfcf4awO8U0vwRP0r8NYXHcQ--bzUdBrk9kBmwuCwFaD6UWSNGm9dg96DKTfQi6M8Gb47FU-g__&Key-Pair-Id=KCX06E8E9L60W [following]\n",
            "--2024-05-06 08:25:20--  https://files.ngc.nvidia.com/org/nvidia/team/monaitoolkit/models/monai_wholebody_ct_segmentation/versions/0.1.9/files.zip?versionId%3D2B7Nna7MLNUNWFP1XuzyT_Mz42a7pX0T&Expires=1715070320&Signature=QYiVl3vMSpxu4PmEjIo0DpUoeIP-ohgz4rYfLfAvmnwgTTrSjePwQN-HrhzR-jzK3yJtYIJqi5b8PpP0rema8NVRAwP~MxQUmJ5WuODp-ZqGZYesd4Fpsvh19q-mzPIW8Kj3hUgDKgfcroHJL95LvTWq6AXA9CeE5Vz~dK4yCA8J-wHtO1bBxmKLtp-GtdWRNR-T3R3m2NIscpuDCDhZAc4zj3eBN2uvgOUBoToi9cDmVgAqjlLpvFrxtzlTW8JDZlMh7h3NF6fzgZfcf4awO8U0vwRP0r8NYXHcQ--bzUdBrk9kBmwuCwFaD6UWSNGm9dg96DKTfQi6M8Gb47FU-g__&Key-Pair-Id=KCX06E8E9L60W\n",
            "Resolving files.ngc.nvidia.com (files.ngc.nvidia.com)... 13.35.7.38, 13.35.7.116, 13.35.7.16, ...\n",
            "Connecting to files.ngc.nvidia.com (files.ngc.nvidia.com)|13.35.7.38|:443... connected.\n",
            "HTTP request sent, awaiting response... 200 OK\n",
            "Length: 139324799 (133M) [application/zip]\n",
            "Saving to: ‘monai_wholebody_ct_segmentation.zip’\n",
            "\n",
            "monai_wholebody_ct_ 100%[===================>] 132.87M   242MB/s    in 0.5s    \n",
            "\n",
            "2024-05-06 08:25:21 (242 MB/s) - ‘monai_wholebody_ct_segmentation.zip’ saved [139324799/139324799]\n",
            "\n"
          ]
        }
      ]
    },
    {
      "cell_type": "code",
      "source": [
        "!unzip monai_wholebody_ct_segmentation.zip -d data/m_wb_ct_sgm"
      ],
      "metadata": {
        "colab": {
          "base_uri": "https://localhost:8080/"
        },
        "id": "TdOPs3Mv-wRO",
        "outputId": "73d8e565-b60b-4b52-b361-079402f7578b"
      },
      "execution_count": null,
      "outputs": [
        {
          "metadata": {
            "tags": null
          },
          "name": "stdout",
          "output_type": "stream",
          "text": [
            "Archive:  monai_wholebody_ct_segmentation.zip\n",
            "replace data/m_wb_ct_sgm/LICENSE? [y]es, [n]o, [A]ll, [N]one, [r]ename: "
          ]
        }
      ]
    },
    {
      "cell_type": "code",
      "source": [
        "model_path = os.path.join(datadir, 'm_wb_ct_sgm', 'models', 'model_lowres.pt')\n",
        "config_path = os.path.join(datadir, 'm_wb_ct_sgm', 'configs', 'inference.json')"
      ],
      "metadata": {
        "id": "idItUTYM_sHT"
      },
      "execution_count": null,
      "outputs": []
    },
    {
      "cell_type": "code",
      "source": [
        "config = ConfigParser()\n",
        "config.read_config(config_path)"
      ],
      "metadata": {
        "id": "PGtZh4tr_xU0"
      },
      "execution_count": null,
      "outputs": []
    },
    {
      "cell_type": "code",
      "source": [
        "preprocessing = config.get_parsed_content(\"preprocessing\")"
      ],
      "metadata": {
        "id": "eoHWbEFS_0QG"
      },
      "execution_count": null,
      "outputs": []
    },
    {
      "cell_type": "code",
      "source": [
        "data = preprocessing({'image': CT_folder})"
      ],
      "metadata": {
        "id": "fAlkOpVA_33G"
      },
      "execution_count": null,
      "outputs": []
    },
    {
      "cell_type": "code",
      "source": [
        "model = config.get_parsed_content(\"network\")"
      ],
      "metadata": {
        "id": "qyYqeY_S_9Fn"
      },
      "execution_count": null,
      "outputs": []
    }
  ]
}